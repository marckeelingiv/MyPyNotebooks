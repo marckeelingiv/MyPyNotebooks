{
 "cells": [
  {
   "cell_type": "code",
   "execution_count": null,
   "metadata": {
    "collapsed": true
   },
   "outputs": [],
   "source": [
    "import pandas as pd\n",
    "import matplotlib.pyplot as plt\n",
    "test_csv_location = 'test.csv'\n",
    "prod_csv_location = 'prod.csv'\n",
    "join_columns = ['ORIGINAL_IID','CLAIM_IID','CLAIM_LINE','EDIT_MNEMONIC']\n",
    "columns_to_remove = ['Original Clean']"
   ]
  },
  {
   "cell_type": "code",
   "execution_count": null,
   "metadata": {
    "collapsed": true
   },
   "outputs": [],
   "source": [
    "test_df = pd.read_csv(test_csv_location,nrows=10)\n",
    "prod_df = pd.read_csv(prod_csv_location,nrows=10)"
   ]
  },
  {
   "cell_type": "code",
   "execution_count": null,
   "metadata": {
    "collapsed": true
   },
   "outputs": [],
   "source": [
    "all_columns = set()\n",
    "for c in test_df.columns.values:\n",
    "    all_columns.add(c)\n",
    "for c in prod_df.columns.values:\n",
    "    all_columns.add(c)"
   ]
  },
  {
   "cell_type": "code",
   "execution_count": null,
   "metadata": {
    "collapsed": true
   },
   "outputs": [],
   "source": [
    "dtypes = {}\n",
    "for c in all_columns:\n",
    "    dtypes[f'{c}']=str"
   ]
  },
  {
   "cell_type": "code",
   "execution_count": null,
   "metadata": {
    "collapsed": true
   },
   "outputs": [],
   "source": [
    "test_df = pd.read_csv(test_csv_location,dtype=dtypes,index_col=join_columns)\n",
    "prod_df = pd.read_csv(prod_csv_location,dtype=dtypes,index_col=join_columns)"
   ]
  },
  {
   "cell_type": "code",
   "execution_count": null,
   "metadata": {
    "collapsed": true
   },
   "outputs": [],
   "source": [
    "for c in columns_to_remove:\n",
    "    try:\n",
    "        del test_df[f'{c}']\n",
    "    except:\n",
    "        pass\n",
    "    try:\n",
    "        del prod_df[f'{c}']\n",
    "    except:\n",
    "        pass"
   ]
  },
  {
   "cell_type": "code",
   "execution_count": null,
   "metadata": {
    "collapsed": true
   },
   "outputs": [],
   "source": [
    "compare_df = test_df.join(\n",
    "    prod_df,\n",
    "    how='outer',\n",
    "    lsuffix='_test',rsuffix='_prod'\n",
    ").fillna('')"
   ]
  },
  {
   "cell_type": "code",
   "execution_count": null,
   "metadata": {
    "collapsed": true
   },
   "outputs": [],
   "source": [
    "columns_to_compare = []\n",
    "for c in all_columns:\n",
    "    if c not in columns_to_remove and c not in join_columns:\n",
    "        columns_to_compare.append(c)"
   ]
  },
  {
   "cell_type": "markdown",
   "metadata": {},
   "source": [
    "This will show difference in columns for each data set"
   ]
  },
  {
   "cell_type": "code",
   "execution_count": null,
   "metadata": {},
   "outputs": [],
   "source": [
    "list_of_different_columns = []\n",
    "for column in columns_to_compare:\n",
    "    are_different = ~(compare_df[f'{column}_test']==compare_df[f'{column}_prod'])\n",
    "    differences = sum(are_different)\n",
    "    test_not_nulls = ~(compare_df[f'{column}_test']=='')\n",
    "    prod_not_nulls = ~(compare_df[f'{column}_prod']=='')\n",
    "    temp_df = compare_df[are_different & test_not_nulls & prod_not_nulls]\n",
    "    if len(temp_df)>0:\n",
    "        print(f'{differences} differences in {column}')\n",
    "        print(f'\\t{(test_not_nulls).sum()} Nulls in Test')\n",
    "        print(f'\\t{(prod_not_nulls).sum()} Nulls in Prod')\n",
    "        to_file = temp_df[[f'{column}_test',f'{column}_prod']].copy()\n",
    "        to_file.to_csv(path_or_buf=f'{column}_Test.csv')\n",
    "        list_of_different_columns.append(column)\n",
    "        del to_file\n",
    "    del temp_df,prod_not_nulls,test_not_nulls,differences,are_different"
   ]
  },
  {
   "cell_type": "code",
   "execution_count": null,
   "metadata": {
    "collapsed": true
   },
   "outputs": [],
   "source": [
    "def return_detla_df(column):\n",
    "    mask = ~(compare_df[f'{column}_test']==compare_df[f'{column}_prod'])\n",
    "    mask2 = ~(compare_df[f'{column}_test']=='')\n",
    "    mask3 = ~(compare_df[f'{column}_prod']=='')\n",
    "    df = compare_df[mask & mask2 & mask3][[f'{column}_test',f'{column}_prod']].copy()\n",
    "    try:\n",
    "        df['Delta'] = df[f'{column}_prod'].astype(float)-df[f'{column}_test'].astype(float)\n",
    "        df.sort_values(by='Delta',ascending=False,inplace=True)\n",
    "    except:\n",
    "        pass\n",
    "    return df"
   ]
  },
  {
   "cell_type": "code",
   "execution_count": null,
   "metadata": {
    "collapsed": true
   },
   "outputs": [],
   "source": [
    "def show_count_of_differnces(column):\n",
    "    df = return_detla_df(column)\n",
    "    return pd.DataFrame(\n",
    "        df.groupby(by=[f'{column}_test',f'{column}_prod']).size(),\n",
    "        columns=['Count']\n",
    "    ).sort_values('Count',ascending=False).copy()"
   ]
  },
  {
   "cell_type": "markdown",
   "metadata": {},
   "source": [
    "#### Code to run to see differences"
   ]
  },
  {
   "cell_type": "code",
   "execution_count": null,
   "metadata": {},
   "outputs": [],
   "source": [
    "for c in list_of_different_columns:\n",
    "    print(f\"## {c}\")\n",
    "    print(f\"return_detla_df('{c}')\")\n",
    "    print(f\"show_count_of_differnces('{c}')\")"
   ]
  }
 ],
 "metadata": {
  "kernelspec": {
   "display_name": "Python 3",
   "language": "python",
   "name": "python3"
  },
  "language_info": {
   "codemirror_mode": {
    "name": "ipython",
    "version": 3
   },
   "file_extension": ".py",
   "mimetype": "text/x-python",
   "name": "python",
   "nbconvert_exporter": "python",
   "pygments_lexer": "ipython3",
   "version": "3.6.1"
  }
 },
 "nbformat": 4,
 "nbformat_minor": 2
}
